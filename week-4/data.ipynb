{
 "cells": [
  {
   "cell_type": "markdown",
   "metadata": {},
   "source": [
    "### DATA "
   ]
  },
  {
   "cell_type": "markdown",
   "metadata": {},
   "source": [
    "The data which will be needed for this project is the coordinates of the various places in Chennai. The coordinates will then be used to find out the various places nearby using the FourSquare API. This API returns all the visiting spots nearby, without separately classifying them based on the type of venue. But using further processing techniques using pandas, we can separate the restaurant venues, using Venues Category column. Then a place is randomly selected for simulation purposes and then the nearest 5 restaurants are displayed on the map."
   ]
  },
  {
   "cell_type": "markdown",
   "metadata": {},
   "source": [
    "### DATA SOURCE"
   ]
  },
  {
   "cell_type": "markdown",
   "metadata": {},
   "source": [
    "Web Scraping is done on the wikipedia page, https://en.wikipedia.org/wiki/Areas_of_Chennai using the bs4 package available in python. The address is then used to find out the latitude and longitude values, using the Nominatim package from Geopy. \n",
    "Then this location data of each place is fed to the FourSquare API, and the nearby venues are stored. \n",
    "Then the restaurants are separated from the rest of the venues by using some string techniques. \n",
    "Then Folium package is used to display the 5 nearest venues in each place."
   ]
  },
  {
   "cell_type": "code",
   "execution_count": null,
   "metadata": {},
   "outputs": [],
   "source": []
  }
 ],
 "metadata": {
  "kernelspec": {
   "display_name": "Python 3",
   "language": "python",
   "name": "python3"
  },
  "language_info": {
   "codemirror_mode": {
    "name": "ipython",
    "version": 3
   },
   "file_extension": ".py",
   "mimetype": "text/x-python",
   "name": "python",
   "nbconvert_exporter": "python",
   "pygments_lexer": "ipython3",
   "version": "3.6.9"
  }
 },
 "nbformat": 4,
 "nbformat_minor": 4
}
