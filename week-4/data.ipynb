{
 "cells": [
  {
   "cell_type": "markdown",
   "metadata": {},
   "source": [
    "### DATA "
   ]
  },
  {
   "cell_type": "markdown",
   "metadata": {},
   "source": [
    "The data which will be needed for this project is the coordinates of the\n",
    "various areas in Chennai. Web Scraping is done from any page having the\n",
    "areas of Chennai, using the Beautiful Soup package available in python.\n",
    "Beautiful Soup is a Python package for parsing HTML and XML\n",
    "documents. It creates a parse tree for parsed pages that can be used to\n",
    "extract data from HTML, which is useful for web scraping.\n",
    "The coordinates of the areas will then be used to find out the various\n",
    "venues near the areas, using the FourSquare API.\n",
    "The Foursquare Places API provides location based experiences with\n",
    "diverse information about venues, users, photos, and check-ins. The API\n",
    "supports real time access to places, Snap-to-Place that assigns users to\n",
    "specific locations, and Geo-tag. Additionally, Foursquare allows developers\n",
    "to build audience segments for analysis and measurement. JSON is the\n",
    "preferred response format.\n",
    "With further processing techniques using Pandas, which is a fast, powerful,\n",
    "flexible and easy to use open source data analysis and manipulation tool,\n",
    "built on top of the Python programming language, we can separate the\n",
    "restaurant venues, using \"Venues Category\".\n",
    "Folium is a very powerful python library which lets you create several kinds\n",
    "of Leaflet maps. As Leaflet/folium maps are interactive, they are ideal for\n",
    "making dashboard building.\n",
    "This library is used to display the 5 nearest venues in any random area\n",
    "selected, and also for visualising all of the areas and all of the venues in\n",
    "Chennai, simultaneously."
   ]
  },
  {
   "cell_type": "code",
   "execution_count": null,
   "metadata": {},
   "outputs": [],
   "source": []
  }
 ],
 "metadata": {
  "kernelspec": {
   "display_name": "Python 3",
   "language": "python",
   "name": "python3"
  },
  "language_info": {
   "codemirror_mode": {
    "name": "ipython",
    "version": 3
   },
   "file_extension": ".py",
   "mimetype": "text/x-python",
   "name": "python",
   "nbconvert_exporter": "python",
   "pygments_lexer": "ipython3",
   "version": "3.6.9"
  }
 },
 "nbformat": 4,
 "nbformat_minor": 4
}
