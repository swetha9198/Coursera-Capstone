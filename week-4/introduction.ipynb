{
 "cells": [
  {
   "cell_type": "markdown",
   "metadata": {},
   "source": [
    "### INTRODUCTION TO THE PROBLEM:"
   ]
  },
  {
   "cell_type": "markdown",
   "metadata": {},
   "source": [
    "Chennai, also known as Madras, is the capital of the Indian state of Tamil Nadu. \n",
    "It is one of the largest cultural, economic and educational centres of south India. \n",
    "According to the Indian census, it is the sixth-most populous city and fourth-most populous \n",
    "urban agglomeration in India. The traditional and de facto gateway of South India, \n",
    "Chennai is among the most-visited Indian cities by foreign tourists. \n",
    "\n",
    "Being one of the most populous and frequently visited cities in India, Chennai has a large \n",
    "number of restaurants to cater to the needs of all of the people who are living in or visiting\n",
    "this place. Since there are large number of restaurants and people usually prefer to go to locations\n",
    "nearby, in this project, solving this problem is the main focus."
   ]
  },
  {
   "cell_type": "markdown",
   "metadata": {},
   "source": [
    "### TARGET AUDIENCE:"
   ]
  },
  {
   "cell_type": "markdown",
   "metadata": {},
   "source": [
    "This business idea mainly targets the audience who have just moved to the city and need to get to know places in and around. Since a lot of students from outside to Chennai for joining in their colleges, and a lot of people relocate to Chennai for their jobs and stuff, this is mainly intended for them to have a better experience in finding nearby restaurants. \n"
   ]
  },
  {
   "cell_type": "code",
   "execution_count": null,
   "metadata": {},
   "outputs": [],
   "source": []
  }
 ],
 "metadata": {
  "kernelspec": {
   "display_name": "Python 3",
   "language": "python",
   "name": "python3"
  },
  "language_info": {
   "codemirror_mode": {
    "name": "ipython",
    "version": 3
   },
   "file_extension": ".py",
   "mimetype": "text/x-python",
   "name": "python",
   "nbconvert_exporter": "python",
   "pygments_lexer": "ipython3",
   "version": "3.6.9"
  }
 },
 "nbformat": 4,
 "nbformat_minor": 4
}
